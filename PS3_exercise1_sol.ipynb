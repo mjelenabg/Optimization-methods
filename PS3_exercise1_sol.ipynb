{
 "cells": [
  {
   "cell_type": "code",
   "execution_count": 1,
   "metadata": {},
   "outputs": [],
   "source": [
    "import numpy as np"
   ]
  },
  {
   "cell_type": "markdown",
   "metadata": {},
   "source": [
    "The function *gradientFunc()* is used for the calculation of the gradient of the given minimization function including the penalty element. The actual coeficients were checked using the software Wolfram Alpha."
   ]
  },
  {
   "cell_type": "code",
   "execution_count": 2,
   "metadata": {},
   "outputs": [],
   "source": [
    "def gradientFunc(x, mu):\n",
    "    return np.matrix([[4*(x[0]-2)**3+2*(x[0]-2*x[1])-4*mu*x[0]*(x[1]-x[0]**2)],\n",
    "                      [-4*(x[0]-2*x[1])+2*mu*(x[1]-x[0]**2)]])"
   ]
  },
  {
   "cell_type": "markdown",
   "metadata": {},
   "source": [
    "Similarly, the function *hessianFunc()* is used for the calculation of the Hessian matrix of the given function."
   ]
  },
  {
   "cell_type": "code",
   "execution_count": 3,
   "metadata": {},
   "outputs": [],
   "source": [
    "def hessianFunc(x, mu):\n",
    "    return np.matrix([[12*(mu+1)*x[0]**2 - 4*mu*x[1] - 48*x[0] + 50, -4-4*mu*x[0]],[-4-4*mu*x[0], 8+2*mu]])"
   ]
  },
  {
   "cell_type": "markdown",
   "metadata": {},
   "source": [
    "Newton method follows the same steps as in the Problem Set 1, just with the addition of the gradual increase of the penalty parameter Mu. At each iteration of  the algorithm the parameter is multiplied by 1.1."
   ]
  },
  {
   "cell_type": "code",
   "execution_count": 4,
   "metadata": {},
   "outputs": [],
   "source": [
    "def newton_m(x0, e, mu):\n",
    "    #calculate the norm of the gradient\n",
    "    delta = np.linalg.norm(gradientFunc(x0, mu))\n",
    "    #number of iterations\n",
    "    i=0\n",
    "    #while the norm is larger than tolerance level\n",
    "    while delta > e:\n",
    "        #multiply inverted hessian and gradient matrices, then modify them to required vector form\n",
    "        #and subtract from previous point\n",
    "        x0 = np.subtract(x0,np.matmul(np.linalg.inv(hessianFunc(x0, mu)), gradientFunc(x0, mu)).flatten().tolist()[0])\n",
    "        #calculate the new norm\n",
    "        delta = np.linalg.norm(gradientFunc(x0, mu))\n",
    "        #increase the number of iterations\n",
    "        i+=1\n",
    "        #increase of the parameter mu\n",
    "        mu*=1.1\n",
    "    #print the results\n",
    "    print ('Number of iterations is: {}'.format(i))\n",
    "    print ('Root is at: {}'.format(x0))"
   ]
  },
  {
   "cell_type": "code",
   "execution_count": 5,
   "metadata": {},
   "outputs": [
    {
     "name": "stdout",
     "output_type": "stream",
     "text": [
      "Number of iterations is: 66\n",
      "Root is at: [0.94569071 0.89398738]\n"
     ]
    }
   ],
   "source": [
    "newton_m([5, 5], 10**(-5), 10)"
   ]
  },
  {
   "cell_type": "code",
   "execution_count": 6,
   "metadata": {},
   "outputs": [
    {
     "name": "stdout",
     "output_type": "stream",
     "text": [
      "10\n",
      "Number of iterations is: 90\n",
      "Root is at: [0.94559393 0.89411299]\n",
      "===================\n",
      "10010\n",
      "Number of iterations is: 18\n",
      "Root is at: [0.94559344 0.89411364]\n",
      "===================\n",
      "20010\n",
      "Number of iterations is: 6\n",
      "Root is at: [0.94559937 0.89410588]\n",
      "===================\n",
      "30010\n",
      "Number of iterations is: 6\n",
      "Root is at: [0.94559391 0.89411296]\n",
      "===================\n",
      "40010\n",
      "Number of iterations is: 6\n",
      "Root is at: [0.94559117 0.89411651]\n",
      "===================\n",
      "50010\n",
      "Number of iterations is: 6\n",
      "Root is at: [0.94558953 0.89411863]\n",
      "===================\n",
      "60010\n",
      "Number of iterations is: 6\n",
      "Root is at: [0.94558843 0.89412005]\n",
      "===================\n",
      "70010\n",
      "Number of iterations is: 6\n",
      "Root is at: [0.94558765 0.89412106]\n",
      "===================\n",
      "80010\n",
      "Number of iterations is: 6\n",
      "Root is at: [0.94558706 0.89412181]\n",
      "===================\n",
      "90010\n",
      "Number of iterations is: 6\n",
      "Root is at: [0.94558661 0.8941224 ]\n",
      "===================\n"
     ]
    }
   ],
   "source": [
    "for mu in range(10, 100000, 10000):\n",
    "    print(mu)\n",
    "    newton_m([1, 1], 10**(-6), mu)\n",
    "    print(\"===================\")"
   ]
  },
  {
   "cell_type": "code",
   "execution_count": 7,
   "metadata": {},
   "outputs": [
    {
     "name": "stdout",
     "output_type": "stream",
     "text": [
      "10\n",
      "Number of iterations is: 90\n",
      "Root is at: [0.94559393 0.89411299]\n",
      "===================\n",
      "10010\n",
      "Number of iterations is: 57\n",
      "Root is at: [0.94558325 0.89412688]\n",
      "===================\n",
      "20010\n",
      "Number of iterations is: 58\n",
      "Root is at: [0.94558311 0.89412705]\n",
      "===================\n",
      "30010\n",
      "Number of iterations is: 58\n",
      "Root is at: [0.94558307 0.8941271 ]\n",
      "===================\n",
      "40010\n",
      "Number of iterations is: 58\n",
      "Root is at: [0.94558305 0.89412712]\n",
      "===================\n",
      "50010\n",
      "Number of iterations is: 58\n",
      "Root is at: [0.94558304 0.89412714]\n",
      "===================\n",
      "60010\n",
      "Number of iterations is: 58\n",
      "Root is at: [0.94558303 0.89412715]\n",
      "===================\n",
      "70010\n",
      "Number of iterations is: 58\n",
      "Root is at: [0.94558303 0.89412715]\n",
      "===================\n",
      "80010\n",
      "Number of iterations is: 58\n",
      "Root is at: [0.94558302 0.89412716]\n",
      "===================\n",
      "90010\n",
      "Number of iterations is: 58\n",
      "Root is at: [0.94558302 0.89412716]\n",
      "===================\n"
     ]
    }
   ],
   "source": [
    "for mu in range(10, 100000, 10000):\n",
    "    print(mu)\n",
    "    newton_m([10000, 10000], 10**(-6), mu)\n",
    "    print(\"===================\")"
   ]
  },
  {
   "cell_type": "markdown",
   "metadata": {},
   "source": [
    "As we can see by testing the algorithm with several different starting points and values of Mu, the algorithm still converges to approximately $x_1=0.945$ and $x_2=0.894$. The only difference is, that the further away the starting point is - the larger amount of iterations is necessary to converge. Additionally, if the parameter Mu is too little the necessary number of iterations will be larger, but we still have to make sure it is not too large so it does not create convergence difficulties for the Newton method."
   ]
  },
  {
   "cell_type": "code",
   "execution_count": null,
   "metadata": {},
   "outputs": [],
   "source": []
  }
 ],
 "metadata": {
  "kernelspec": {
   "display_name": "Python 3",
   "language": "python",
   "name": "python3"
  },
  "language_info": {
   "codemirror_mode": {
    "name": "ipython",
    "version": 3
   },
   "file_extension": ".py",
   "mimetype": "text/x-python",
   "name": "python",
   "nbconvert_exporter": "python",
   "pygments_lexer": "ipython3",
   "version": "3.6.4"
  }
 },
 "nbformat": 4,
 "nbformat_minor": 2
}
